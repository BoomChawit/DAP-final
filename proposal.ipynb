{
 "cells": [
  {
   "cell_type": "markdown",
   "metadata": {},
   "source": [
    "# Assn09:  Final Project proposal"
   ]
  },
  {
   "cell_type": "markdown",
   "metadata": {},
   "source": [
    "\n",
    "___\n",
    "\n",
    "* **Name**:  <span style=\"color:blue\">Chawit Kaewnuratchadasorn</span>\n",
    "* **Student number**:  <span style=\"color:blue\">1023312299</span>\n",
    "* **Project theme**:  <span style=\"color:blue\">Alcoholism</span>\n",
    "* **Project purpose**:  <span style=\"color:blue\">The programme will predict the quality of wine according to its chemical features (eg. pH, density, percent of alcohol).</span>"
   ]
  },
  {
   "cell_type": "markdown",
   "metadata": {},
   "source": [
    "**Dataset source(s)**\n",
    "\n",
    "<span style=\"color:blue\">https://archive.ics.uci.edu/ml/machine-learning-databases/wine-quality/</span>"
   ]
  },
  {
   "cell_type": "code",
   "execution_count": null,
   "metadata": {},
   "outputs": [],
   "source": []
  }
 ],
 "metadata": {
  "kernelspec": {
   "display_name": "Python 3",
   "language": "python",
   "name": "python3"
  },
  "language_info": {
   "codemirror_mode": {
    "name": "ipython",
    "version": 3
   },
   "file_extension": ".py",
   "mimetype": "text/x-python",
   "name": "python",
   "nbconvert_exporter": "python",
   "pygments_lexer": "ipython3",
   "version": "3.7.3"
  }
 },
 "nbformat": 4,
 "nbformat_minor": 2
}
