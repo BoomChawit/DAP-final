{
 "cells": [
  {
   "cell_type": "markdown",
   "metadata": {},
   "source": [
    "Data Analysis Practice II-E2 \n",
    "\n",
    "# Final Project\n",
    "\n",
    "<br>\n",
    "⚠️   <span style=\"color:red\">**NOTE!** &nbsp; &nbsp;  Your IPYNB file must run without errors</span>\n",
    "\n",
    "<br>\n",
    "\n",
    "<center>(To check for errors in Jupyter, use:   <b>Kernel</b>.. <b>Restart & Run All</b>)</center>"
   ]
  },
  {
   "cell_type": "markdown",
   "metadata": {},
   "source": [
    "___\n",
    "\n",
    "* **Name**:  <span style=\"color:blue\">Chawit Kaewnuratchadasorn</span>\n",
    "* **Student number**:  <span style=\"color:blue\">1023312299</span>\n",
    "* **Project theme**:  <span style=\"color:blue\">Alcoholism</span>\n",
    "* **Project purpose**:  <span style=\"color:blue\">The programme will predict the quality of red wine according to its features (eg. pH, density, percent of alcohol).</span>"
   ]
  },
  {
   "cell_type": "markdown",
   "metadata": {},
   "source": [
    "___\n",
    "\n",
    "## Dataset description\n",
    "\n",
    "**Dataset source(s)**\n",
    "\n",
    "<span style=\"color:blue\">https://archive.ics.uci.edu/ml/machine-learning-databases/wine-quality/</span>\n",
    "\n",
    "**Overview**\n",
    "\n",
    "<span style=\"color:blue\">The redwine dataset consists of 12 columns. The first 11 columns are chemical properties of redwine: fixed acidity, volatile acidity, citric acid, residual sugar, chlorides, free sulfur dioxide, total sulfur dioxide, density, pH, sulphates, alcohol. The last column is the quality of red wine. There are 1599 red wines in the dataset.</span>\n",
    "\n",
    "\n",
    "**Variables**\n",
    "\n",
    "<span style=\"color:blue\">**Independent variables:**</span>\n",
    "* <span style=\"color:blue\">fixed acidity</span>\n",
    "* <span style=\"color:blue\">volatile acidity</span>\n",
    "* <span style=\"color:blue\">citric acid</span>\n",
    "* <span style=\"color:blue\">residual sugar</span>\n",
    "* <span style=\"color:blue\">chlorides</span>\n",
    "* <span style=\"color:blue\">free sulfur dioxide</span>\n",
    "* <span style=\"color:blue\">total sulfur dioxide</span>\n",
    "* <span style=\"color:blue\">density</span>\n",
    "* <span style=\"color:blue\">pH</span>\n",
    "* <span style=\"color:blue\">sulphates</span>\n",
    "* <span style=\"color:blue\">alcohol</span>\n",
    "\n",
    "<span style=\"color:blue\">**Dependent variables:**</span>\n",
    "* <span style=\"color:blue\">quality of red wine</span>"
   ]
  },
  {
   "cell_type": "code",
   "execution_count": 6,
   "metadata": {},
   "outputs": [],
   "source": [
    "# Lists of library and functions used in the programme\n",
    "\n",
    "'''\n",
    "Lists of library used in the programme\n",
    "'''\n",
    "import numpy as np\n",
    "import matplotlib.pyplot as plt\n",
    "import pandas as pd\n",
    "from scipy import stats\n",
    "%matplotlib inline\n",
    "import os\n",
    "\n",
    "from sklearn.model_selection import train_test_split\n",
    "from sklearn.neighbors import KNeighborsClassifier\n",
    "from sklearn.tree import DecisionTreeClassifier   \n",
    "\n",
    "\n",
    "'''\n",
    "The function below is used for the \n",
    "analysis part to select each column\n",
    "'''\n",
    "\n",
    "def data_preparation_for_relationship(dataset,m):\n",
    "    r = []\n",
    "    for i in range(len(dataset)):\n",
    "        r.append(dataset[i][m])\n",
    "    return r"
   ]
  },
  {
   "cell_type": "markdown",
   "metadata": {},
   "source": [
    "___\n",
    "\n",
    "## Data parsing using Python\n",
    "\n",
    "**Python functions used**\n",
    "\n",
    "* `np.loadtxt`\n",
    "* `os.path.abspath`\n",
    "* `os.path.join`\n",
    "\n",
    "**Overview**\n",
    "\n",
    "<span style=\"color:blue\">{Summarize your data parsing here (approximately 50 to 100 words)}</span>\n",
    "\n",
    "* <span style=\"color:blue\">I used `os.path.abspath` to get path to a directory that contains red-wine file (**final_project**).</span>\n",
    "* <span style=\"color:blue\">I used `os.path.os` to get filename (**winequality-red.csv**).\"</span>\n",
    "* <span style=\"color:blue\">I used `np.loadtxt` to obtain data in array (**winequality-red.csv**).\"</span>\n",
    "\n",
    "**Parsing difficulties**\n",
    "\n",
    "* <span style=\"color:blue\">The difficult part is `skiprows` part in the `np.loadtxt` to skip header row</span>\n",
    "\n",
    "\n"
   ]
  },
  {
   "cell_type": "code",
   "execution_count": 7,
   "metadata": {},
   "outputs": [],
   "source": [
    "dirname = os.path.abspath('./')\n",
    "filename1 = os.path.join(dirname,'winequality-red.csv')\n",
    "\n",
    "redwine_data = np.loadtxt(filename1,delimiter=';',comments='#',skiprows=1)"
   ]
  },
  {
   "cell_type": "markdown",
   "metadata": {},
   "source": [
    "___\n",
    "\n",
    "## Analysis Methods\n",
    "\n",
    "<span style=\"color:blue\">Two analysis methods are used to analyse eac property of wine with the quality of wine. Then data with p &lt; 0.05 will be selected</span>\n",
    "\n",
    "* <span style=\"color:blue\">Regression</span>\n",
    "* <span style=\"color:blue\">Paired t tests</span>\n"
   ]
  },
  {
   "cell_type": "markdown",
   "metadata": {},
   "source": [
    "___\n",
    "\n",
    "## Results"
   ]
  },
  {
   "cell_type": "markdown",
   "metadata": {},
   "source": [
    "### Dataset description\n",
    "\n",
    "<span style=\"color:blue\">The histrogram is plotted by number of wine with each quality</span>"
   ]
  },
  {
   "cell_type": "code",
   "execution_count": 8,
   "metadata": {},
   "outputs": [
    {
     "data": {
      "image/png": "[encoded data removed]",
      "text/plain": [
       "<Figure size 432x288 with 1 Axes>"
      ]
     },
     "metadata": {
      "needs_background": "light"
     },
     "output_type": "display_data"
    }
   ],
   "source": [
    "# histrogram\n",
    "histrogram = data_preparation_for_relationship(redwine_data,11)\n",
    "x = [i+0.5 for i in range(0,12)]\n",
    "tick = [i for i in range(0,12)]\n",
    "\n",
    "plt.figure()\n",
    "plt.hist(histrogram,bins = x)\n",
    "plt.xticks(tick)\n",
    "plt.xlabel(\"quality of wine\")\n",
    "plt.ylabel(\"the number of wine\")\n",
    "plt.title(\"The number of each quality of wine\")\n",
    "\n",
    "redwine = pd.read_csv('winequality-red.csv',delimiter = ';')\n",
    "# display(redwine.head())\n",
    "\n",
    "header = []\n",
    "for col in redwine.columns:\n",
    "    header.append(col)\n",
    "    \n",
    "plt.savefig(\"figure1.png\")"
   ]
  },
  {
   "cell_type": "markdown",
   "metadata": {},
   "source": [
    "### Hypothesis testing results\n",
    "\n",
    "<span style=\"color:blue\">Regression and Paired t test used to analyse the p value of each property and quality</span>\n"
   ]
  },
  {
   "cell_type": "code",
   "execution_count": 9,
   "metadata": {},
   "outputs": [
    {
     "name": "stdout",
     "output_type": "stream",
     "text": [
      "Paired t test\n",
      "==============================================\n",
      "P value of fixed acidity and quality is \n",
      "0.0\n",
      "Hypothesis is rejected. SIGNIFICANT !\n",
      "----------------------------------------------\n",
      "P value of volatile acidity and quality is \n",
      "0.0\n",
      "Hypothesis is rejected. SIGNIFICANT !\n",
      "----------------------------------------------\n",
      "P value of citric acid and quality is \n",
      "0.0\n",
      "Hypothesis is rejected. SIGNIFICANT !\n",
      "----------------------------------------------\n",
      "P value of residual sugar and quality is \n",
      "0.0\n",
      "Hypothesis is rejected. SIGNIFICANT !\n",
      "----------------------------------------------\n",
      "P value of chlorides and quality is \n",
      "0.0\n",
      "Hypothesis is rejected. SIGNIFICANT !\n",
      "----------------------------------------------\n",
      "P value of free sulfur dioxide and quality is \n",
      "3.0434756940062495e-233\n",
      "Hypothesis is rejected. SIGNIFICANT !\n",
      "----------------------------------------------\n",
      "P value of total sulfur dioxide and quality is \n",
      "0.0\n",
      "Hypothesis is rejected. SIGNIFICANT !\n",
      "----------------------------------------------\n",
      "P value of density and quality is \n",
      "0.0\n",
      "Hypothesis is rejected. SIGNIFICANT !\n",
      "----------------------------------------------\n",
      "P value of pH and quality is \n",
      "0.0\n",
      "Hypothesis is rejected. SIGNIFICANT !\n",
      "----------------------------------------------\n",
      "P value of sulphates and quality is \n",
      "0.0\n",
      "Hypothesis is rejected. SIGNIFICANT !\n",
      "----------------------------------------------\n",
      "P value of alcohol and quality is \n",
      "0.0\n",
      "Hypothesis is rejected. SIGNIFICANT !\n",
      "----------------------------------------------\n",
      " \n",
      "Regression\n",
      "==============================================\n",
      "P value of fixed acidity and quality is \n",
      "6.495635009279552e-07\n",
      "Hypothesis is rejected. SIGNIFICANT !\n",
      "----------------------------------------------\n",
      "P value of volatile acidity and quality is \n",
      "2.0517148070137957e-59\n",
      "Hypothesis is rejected. SIGNIFICANT !\n",
      "----------------------------------------------\n",
      "P value of citric acid and quality is \n",
      "4.99129525050853e-20\n",
      "Hypothesis is rejected. SIGNIFICANT !\n",
      "----------------------------------------------\n",
      "P value of residual sugar and quality is \n",
      "0.5832180131580473\n",
      "NOT SIGNIFICANT !\n",
      "----------------------------------------------\n",
      "P value of chlorides and quality is \n",
      "2.3133826540584013e-07\n",
      "Hypothesis is rejected. SIGNIFICANT !\n",
      "----------------------------------------------\n",
      "P value of free sulfur dioxide and quality is \n",
      "0.042833979508140954\n",
      "Hypothesis is rejected. SIGNIFICANT !\n",
      "----------------------------------------------\n",
      "P value of total sulfur dioxide and quality is \n",
      "8.621703423655394e-14\n",
      "Hypothesis is rejected. SIGNIFICANT !\n",
      "----------------------------------------------\n",
      "P value of density and quality is \n",
      "1.874956652010331e-12\n",
      "Hypothesis is rejected. SIGNIFICANT !\n",
      "----------------------------------------------\n",
      "P value of pH and quality is \n",
      "0.02096277865147354\n",
      "Hypothesis is rejected. SIGNIFICANT !\n",
      "----------------------------------------------\n",
      "P value of sulphates and quality is \n",
      "1.8020884534523016e-24\n",
      "Hypothesis is rejected. SIGNIFICANT !\n",
      "----------------------------------------------\n",
      "P value of alcohol and quality is \n",
      "2.8314769747763594e-91\n",
      "Hypothesis is rejected. SIGNIFICANT !\n",
      "----------------------------------------------\n"
     ]
    }
   ],
   "source": [
    "# Paired t test\n",
    "print(\"Paired t test\")\n",
    "print(\"==============================================\")\n",
    "\n",
    "for i in range(0, len(redwine_data[1])-1):\n",
    "    x = data_preparation_for_relationship(redwine_data,i)\n",
    "    t,p = stats.ttest_rel(x,data_preparation_for_relationship(redwine_data,11))\n",
    "    compare = header[i]\n",
    "    print('P value of',compare, 'and quality is ')\n",
    "    print(p)\n",
    "    if p < 0.05:\n",
    "        print(\"Hypothesis is rejected. SIGNIFICANT !\")\n",
    "    else: print(\"NOT SIGNIFICANT !\")\n",
    "    print(\"----------------------------------------------\")\n",
    "print(\" \")\n",
    "\n",
    "# Regression\n",
    "print(\"Regression\")\n",
    "print(\"==============================================\")\n",
    "for i in range(0,len(redwine_data[1])-1):\n",
    "    x = data_preparation_for_relationship(redwine_data,i)\n",
    "    linre = stats.linregress(x,data_preparation_for_relationship(redwine_data,11))\n",
    "    compare = header[i]\n",
    "    print('P value of',compare, 'and quality is ')\n",
    "    print(linre.pvalue)\n",
    "    if linre.pvalue < 0.05:\n",
    "        print(\"Hypothesis is rejected. SIGNIFICANT !\")\n",
    "    else: print(\"NOT SIGNIFICANT !\")\n",
    "    print(\"----------------------------------------------\")"
   ]
  },
  {
   "cell_type": "markdown",
   "metadata": {},
   "source": [
    "### Analysis\n",
    "\n",
    "<span style=\"color:blue\">\n",
    " \n",
    "From two types of data analysis (regression and paired t test), we can conclude:\n",
    "\n",
    "1. Regression showed that every variable has a statistical significance on the label because p value for all variables is less than 0.05.\n",
    "\n",
    "2. Paired t test showed that only one variable, namely residual sugar, has less statistical significance compared with other variables because the p value for residual sugar is 0.583 which is far more than 0.05.\n",
    "\n",
    "From these analysis, we eliminate the column \"residual sugar\" or column 4 (column 3 in the numpy array) in the machine learning to get higher accuracy.\n",
    " \n",
    "</span>\n"
   ]
  },
  {
   "cell_type": "markdown",
   "metadata": {},
   "source": [
    "### Machine learning\n",
    "\n",
    "<span style=\"color:blue\">Two machine learning methods which are K-Nearest Neighbors and Decision Tree are used to learn the data and predict. The data are splitted into train set and test set (each with values and labels) by a library `train_test_split`. Variable a is for selecting the columes from analysing part to reduce variables used in the programme</span>"
   ]
  },
  {
   "cell_type": "code",
   "execution_count": 10,
   "metadata": {},
   "outputs": [
    {
     "name": "stdout",
     "output_type": "stream",
     "text": [
      "knn 0.44375\n",
      "tree 0.5875\n"
     ]
    }
   ],
   "source": [
    "a = [0,1,2,4,5,6,7,8,9,10]\n",
    "\n",
    "x_train, x_test, y_train, y_test = train_test_split(redwine_data[:,a], redwine_data[:,11], test_size = 0.2, random_state = 42)\n",
    "\n",
    "knn    = KNeighborsClassifier(n_neighbors=5)\n",
    "knn.fit(x_train, y_train)\n",
    "print(\"knn\",knn.score(x_test, y_test))\n",
    "    \n",
    "tree = DecisionTreeClassifier(random_state=1) \n",
    "tree.fit(x_train, y_train) \n",
    "print(\"tree\",tree.score(x_test, y_test))"
   ]
  },
  {
   "cell_type": "markdown",
   "metadata": {},
   "source": [
    "___\n",
    "\n",
    "## Summary\n",
    "\n",
    "* <span style=\"color:blue\">Paired t test found that correlations between each property and quality are significant (p &lt; 0.05).</span>\n",
    "* <span style=\"color:blue\">Regression found that correlation between sugar and quality is not significant (p = 0.58) .</span>\n",
    "* <span style=\"color:blue\">K-Nearest Neighbors showed the accuracy of predicting wine quality 44%</span>\n",
    "* <span style=\"color:blue\">Decision Tree showed the accuracy of predicting wine quality 58%</span>\n",
    "\n",
    "<span style=\"color:blue\">This project found that decision tree is proved for a better machine learning method to predict red wine quality from its chemical properties.</span>"
   ]
  },
  {
   "cell_type": "code",
   "execution_count": null,
   "metadata": {},
   "outputs": [],
   "source": []
  }
 ],
 "metadata": {
  "kernelspec": {
   "display_name": "Python 3",
   "language": "python",
   "name": "python3"
  },
  "language_info": {
   "codemirror_mode": {
    "name": "ipython",
    "version": 3
   },
   "file_extension": ".py",
   "mimetype": "text/x-python",
   "name": "python",
   "nbconvert_exporter": "python",
   "pygments_lexer": "ipython3",
   "version": "3.7.3"
  }
 },
 "nbformat": 4,
 "nbformat_minor": 2
}
